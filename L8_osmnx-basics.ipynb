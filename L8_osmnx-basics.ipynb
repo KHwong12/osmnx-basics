{
 "cells": [
  {
   "cell_type": "markdown",
   "id": "ccf0843b-e542-415f-be52-8a602bc8fc81",
   "metadata": {},
   "source": [
    "# URBA6004 Tutorial - Extract and analyse street network with OSMnx\n",
    "\n",
    "**Author**: Kenneth Wong (khwong12@hku.hk)\n",
    "\n",
    "**Last Edited**: 2022-03-22\n",
    "\n",
    "---\n",
    "\n",
    "## Overview\n",
    "\n",
    "In this tutorial, you will use OSMnx to:\n",
    "\n",
    "- Extract street network from OpenStreetMap\n",
    "- Compute basic summary statistics of the street networks\n",
    "- Inspect betweenness centrality\n",
    "- Save the street network as spatial data file for opening it in other GIS Applications\n",
    "\n",
    "This tutorial is based on [example notebooks](https://github.com/gboeing/osmnx-examples) by Geoff Boeing, the author of the OSMnx package.\n",
    "\n",
    "----"
   ]
  },
  {
   "cell_type": "code",
   "execution_count": null,
   "id": "c05764a5-4aa0-4443-b404-4a11d351a929",
   "metadata": {},
   "outputs": [],
   "source": [
    "# Install packages if you have not done so\n",
    "\n",
    "# Install via conda in local anaconda environment\n",
    "# !conda install osmnx\n",
    "\n",
    "# Or, use pip if you are using Google Colab\n",
    "# !pip install osmnx"
   ]
  },
  {
   "cell_type": "code",
   "execution_count": null,
   "id": "9b57822e-3798-469e-8085-98030f34be59",
   "metadata": {},
   "outputs": [],
   "source": [
    "import geopandas as gpd\n",
    "\n",
    "import networkx as nx\n",
    "import osmnx as ox\n",
    "import pandas as pd\n",
    "\n",
    "%matplotlib inline\n",
    "ox.__version__"
   ]
  },
  {
   "cell_type": "markdown",
   "id": "ec2074bc-e12e-46c5-b9c8-36964706e6ac",
   "metadata": {
    "tags": []
   },
   "source": [
    "---\n",
    "\n",
    "## Introduction\n",
    "\n",
    "### What is OSMnx?\n",
    "\n",
    "OSMnx is a Python package that lets you **download geospatial data from OpenStreetMap** and model, project, **visualize, and analyze real-world street networks** and any other geospatial geometries. You can download and model walkable, drivable, or bikeable urban networks with a single line of Python code then easily analyze and visualize them. You can just as easily download and work with other infrastructure types, amenities/points of interest, building footprints, elevation data, street bearings/orientations, and speed/travel time.\n",
    "\n",
    "Check the following journal article for details.\n",
    "\n",
    "Boeing, G. 2017. OSMnx: New Methods for Acquiring, Constructing, Analyzing, and Visualizing Complex Street Networks. Computers, Environment and Urban Systems 65, 126-139. doi:10.1016/j.compenvurbsys.2017.05.004\n",
    "\n",
    "*(excrepeted from [OSMnx documnetation](https://osmnx.readthedocs.io/en/stable/))*\n",
    "\n",
    "### What is OpenStreetMap (OSM)?\n",
    "\n",
    "OpenStreetMap (OSM) is a digital map database of the world built through crowdsourced volunteered geographic information (VGI). OSM is supported by the nonprofit OpenStreetMap Foundation. **The data from OSM is freely available for visualization, query and download**.\n",
    "\n",
    "OSM works in a style similar to Wikipedia, in which virtually all features are open to editing. Since its establishment in 2004, this map database has matured enough in some locations to the point where its detail and precision rival \"authoritative\" datasets from governments and commercial entities.\n",
    "\n",
    "### Data available via OSM\n",
    "\n",
    "Same as other spatial data, the 2 essential ingredients of OSM data are **geometry** and **descriptive attributes**.\n",
    "\n",
    "To contribute a feature to OSM, you typically digitize a geometry (a point, line, or area) and then add descriptive attributes, or tags. For example, to tag a grocery store, you trace its building footprint and tag it with `shop=supermarket`. There's no restriction on the tags you can use, but the data is only useful to the degree that you tag things consistent with the way other OSM users have applied the tags.\n",
    "\n",
    "To promote consistency in tagging, the OSM community has an informal tag voting and approval process organized on the [OpenStreetMap wiki](https://wiki.openstreetmap.org/wiki/Main_Page) site. Approved tags are added to the online documentation so that others can easily find and apply them. For example, the tag `shop=supermarket` denotes a grocery store (see the [Wiki page of shop=supermarket](https://wiki.openstreetmap.org/wiki/Tag:shop=supermarket)). Before you add a tag, check the wiki to make sure that you're using the established tag and syntax.\n",
    "\n",
    "*(excrepeted from [OpenStreetMap and its use as open data Chapter of Open Web Mapping Course by PennState](https://www.e-education.psu.edu/geog585/node/738))*\n",
    "\n",
    "---\n"
   ]
  },
  {
   "cell_type": "markdown",
   "id": "99b8f295-b5ca-47ce-b8fd-cb721a09ef8e",
   "metadata": {},
   "source": [
    "## Part I: Extract street networks\n",
    "\n",
    "There are multiple way to specify the \"study area\" for extracting street networks in OSMnx, including:\n",
    "\n",
    "- pass a bounding box\n",
    "- pass a lat-lng point and bounding box distance in meters\n",
    "- pass a lat-lng point and network distance in meters\n",
    "- pass an address and distance (bounding box or network) in meters\n",
    "- pass a spatial polygon\n",
    "\n",
    "Here, we will look into two functions in OSMnx to extract street network, `graph_from_point` and `graph_from_polygon`."
   ]
  },
  {
   "cell_type": "markdown",
   "id": "41898560-940a-4040-a59b-140e2401be45",
   "metadata": {},
   "source": [
    "### Extract street network from a point with provided distance distance\n",
    "\n",
    "A quick way to extract street network is to first provide a point on earth (in latitude/longitude), then provide a euclidean distance. This generates a rectangular boundary (*bounding box* (*bbox*) in jargon), and OSMnx will use this boundary to \"clip\" the street network from OSM.\n",
    "\n",
    "The `graph_from_point` takes the following arguments:\n",
    "\n",
    "- **center_point**: the (lat, lng) center point around which to construct the graph\n",
    "- **dist**: area to be covered from the center of the graph, in meters\n",
    "- **network_type**: what type of street network to get. can be one of the following:\n",
    "    - ‘drive’ – get drivable public streets (but not service roads)\n",
    "    - ‘drive_service’ – get drivable public streets, including service roads\n",
    "    - ‘walk’ – get all streets and paths that pedestrians can use (this network type ignores one-way directionality)\n",
    "    - ‘bike’ – get all streets and paths that cyclists can use\n",
    "    - ‘all’ – download all (non-private) OSM streets and paths\n",
    "    - ‘all_private’ – download all OSM streets and paths, including private-access ones"
   ]
  },
  {
   "cell_type": "code",
   "execution_count": null,
   "id": "49f0d042-b862-4a32-b50c-fa0a585f7c99",
   "metadata": {},
   "outputs": [],
   "source": [
    "# extract the street network of:\n",
    "# 1000 meters from the point (22.3192, 114.1693), with all OSM streets and paths included\n",
    "hk_graph = ox.graph_from_point(center_point = (22.3192, 114.1693), dist = 1000, network_type='all_private')"
   ]
  },
  {
   "cell_type": "markdown",
   "id": "bb0a64ce-66b4-4b88-b0b1-9a7343116059",
   "metadata": {},
   "source": [
    "How does the street network looks like? We could use the `plot_graph` function to plot the street network."
   ]
  },
  {
   "cell_type": "code",
   "execution_count": null,
   "id": "9e00303a-8b64-4d15-a7de-3d46a26c49fb",
   "metadata": {},
   "outputs": [],
   "source": [
    "ox.plot_graph(hk_graph, node_color=\"w\", node_size=5)"
   ]
  },
  {
   "cell_type": "markdown",
   "id": "2b3b9f23-b61c-4ab9-88fc-a48f1c741f2f",
   "metadata": {},
   "source": [
    "> **Question**: Do you recongise where is it?"
   ]
  },
  {
   "cell_type": "markdown",
   "id": "4079769a-2c36-4418-807d-9d5b130b2f4c",
   "metadata": {},
   "source": [
    "### Extract street network from a boundary polygon\n",
    "\n",
    "For urban analytics and projects, a more common workflow is that you have already given the study boundary of the project. You are only interested in the road network within the boundary. In this case, we could pass a spatial polygon (in the data tpye of `shapely.geometry.Polygon`) to OSMnx and ask the program to return the street network inside that polygon.\n",
    "\n",
    "The code cell below reads the prefecture boundaries of Tokyo Prefecture and filter the dataset to include only Chiyoda District (千代田区)."
   ]
  },
  {
   "cell_type": "code",
   "execution_count": null,
   "id": "fc2899b4-1f9e-4ee5-90e3-8d39a1a98b54",
   "metadata": {},
   "outputs": [],
   "source": [
    "# boundary of Tokyo Prefecture, originally available at https://nlftp.mlit.go.jp/ksj/\n",
    "BOUNDARY_URL = \"https://raw.githubusercontent.com/smartnews-smri/japan-topography/main/data/municipality/geojson/s0010/N03-21_13_210101.json\"\n",
    "\n",
    "tokyo_pre_boundary = gpd.read_file(BOUNDARY_URL)"
   ]
  },
  {
   "cell_type": "code",
   "execution_count": null,
   "id": "17228ee5-b58e-428e-858e-01c38c3a5b65",
   "metadata": {},
   "outputs": [],
   "source": [
    "tokyo_pre_boundary"
   ]
  },
  {
   "cell_type": "code",
   "execution_count": null,
   "id": "6f467c12-f62a-435c-8352-75e0da42c1bd",
   "metadata": {},
   "outputs": [],
   "source": [
    "# filter the data to select chiyoda district only\n",
    "chiyoda = tokyo_pre_boundary[tokyo_pre_boundary.N03_004 == \"千代田区\"]"
   ]
  },
  {
   "cell_type": "code",
   "execution_count": null,
   "id": "fa2cdb7e-5d48-4161-8611-751d16511122",
   "metadata": {},
   "outputs": [],
   "source": [
    "# plot the geometry with geopandas\n",
    "chiyoda.plot()"
   ]
  },
  {
   "cell_type": "code",
   "execution_count": null,
   "id": "98527669-350d-4d84-b689-1f121cc038d0",
   "metadata": {},
   "outputs": [],
   "source": [
    "# plot the shapely geometry\n",
    "chiyoda['geometry'][0]"
   ]
  },
  {
   "cell_type": "code",
   "execution_count": null,
   "id": "c07de1d1-8ae9-4a71-914f-9a06cacf17b6",
   "metadata": {},
   "outputs": [],
   "source": [
    "# remember chiyoda is a GeoDataFrame, yet what we need is the \"shape\" of the boundary\n",
    "# therefore, we need to extract the geoemtry of the boundary polygon with ['geometry'][0]\n",
    "chiyoda_graph = ox.graph_from_polygon(chiyoda['geometry'][0])"
   ]
  },
  {
   "cell_type": "code",
   "execution_count": null,
   "id": "951e7ee6-9d71-44a4-9efb-5366de0b82ae",
   "metadata": {},
   "outputs": [],
   "source": [
    "ox.plot_graph(chiyoda_graph)"
   ]
  },
  {
   "cell_type": "markdown",
   "id": "6296bbf0-6a21-4097-880c-ab1e255865de",
   "metadata": {},
   "source": [
    "In addition to `plot_graph`, you could also plot the street network on an interactive map with **folium** with `plot_graph_folium`."
   ]
  },
  {
   "cell_type": "code",
   "execution_count": null,
   "id": "25475ec8-30a1-44c4-9b55-3ded0d26461b",
   "metadata": {},
   "outputs": [],
   "source": [
    "chiyoda_folium = ox.plot_graph_folium(chiyoda_graph, popup_attribute=\"name\", weight=2, color=\"#999999\")\n",
    "\n",
    "chiyoda_folium"
   ]
  },
  {
   "cell_type": "markdown",
   "id": "3ac26919-b855-4f4c-857b-a549e61227bf",
   "metadata": {},
   "source": [
    "### Graph from geocoding a place name\n",
    "\n",
    "It is possible to pass a place name and let geocoding services to search for the \"boundary\" of the specified place with `graph_from_place`. \n",
    "\n",
    "However, I would **NOT** recommend this method as the boundary of certain places are not well-defined in OSM. Say, when you provide the name \"Tsuen Wan\" to the geocoder, is it returning the boundary of Tsuen Wan *Town Centre*, Tsuen Wan *New Town* or Tsuen Wan *District*? You will not know the actual boundary polygon Python will be using only after the code runs.\n",
    "\n",
    "**It is always better to know how the polygon exactly looks like before you use it to \"clip\" the street network.** Otherwise, unexpected errors may occur."
   ]
  },
  {
   "cell_type": "code",
   "execution_count": null,
   "id": "1509f866-ad63-463a-81e8-e232035a8577",
   "metadata": {},
   "outputs": [],
   "source": [
    "ty_graph = ox.graph_from_place(\"Tsing Yi, Hong Kong\")"
   ]
  },
  {
   "cell_type": "markdown",
   "id": "af9ec307-a5b7-417a-9017-b829a541d2a8",
   "metadata": {},
   "source": [
    "---\n",
    "\n",
    "## Part II: Compute basic street network stats\n"
   ]
  },
  {
   "cell_type": "markdown",
   "id": "d74ed3d6-4882-4bfb-b317-72a32a057474",
   "metadata": {},
   "source": [
    "### Compute summary statistics of the network\n",
    "\n",
    "In general, we could compute 2 types of statistics of street networks - topological and geometric.\n",
    "\n",
    "The `basic_stats` function in OSMnx computes some fundemental statistics of the street network. The function returns a dictionary with various keys indicating a type of summary statistics."
   ]
  },
  {
   "cell_type": "code",
   "execution_count": null,
   "id": "e406c24b-455e-4195-8dc6-30c2dac0feef",
   "metadata": {
    "tags": []
   },
   "outputs": [],
   "source": [
    "stats = ox.basic_stats(hk_graph)"
   ]
  },
  {
   "cell_type": "code",
   "execution_count": null,
   "id": "1e8ba13f-fb24-42eb-b283-062c7f606f56",
   "metadata": {},
   "outputs": [],
   "source": [
    "pd.Series(stats)\n",
    "\n",
    "# You could also \"prettify\" the output table by transforming it to a dataframe\n",
    "# pd.DataFrame(pd.Series(stats, name=\"value\")).round(3)"
   ]
  },
  {
   "cell_type": "markdown",
   "id": "3b3f536a-cb1d-4ae5-a761-107c3e53f4e0",
   "metadata": {},
   "source": [
    "Following are explanations of some key statistics.\n",
    "\n",
    "- `n`: count of nodes in graph\n",
    "- `m`: count of edges in graph\n",
    "- `k_avg` - graph's average node degree (in-degree and out-degree)\n",
    "- `edge_length_total`: total edge length\n",
    "- `circuity_avg`: street circuity using edges of undirected graph. Circuity is the sum of edge lengths divided by the sum of straight-line distances between edge endpoints. Calculates straight-line distance as euclidean distance if projected or great-circle distance if unprojected.\n",
    "- `intersection_count`: intersections in a graph. Intersections are defined as nodes with at least min_streets number of streets incident on them.\n",
    "- `self_loop_proportion`: percent of edges that are self-loops in a graph. A self-loop is defined as an edge from node u to node v where u==v.\n",
    "- `street_segment_count`: street segments in a graph\n",
    "\n",
    "<br>\n",
    "\n",
    "> **Question**: How many nodes are there in the extracted street network?\n",
    "\n",
    "<br>\n",
    "\n",
    "Remember, when in doubt, check the helping page of the function with `help(ox.basic_stats)`.\n",
    "\n",
    "**NOTE**: You may wonder the differences between `edge_length` and `street_length`. Simply speaking, the network model of street network is using *directed* graphs, and bidirectional streets are represented by 2 reciprocally directed edges. Total street length uses an undirected version of network model to quantify how many **linear meters of physical street** exist in the study area. If every street in the network is bidirectional, total edge length will be approximately twice as large as total street length (as explained by the [OSMnx author](https://github.com/gboeing/osmnx/issues/220#issuecomment-441721992))."
   ]
  },
  {
   "cell_type": "markdown",
   "id": "7fa63db9-05a1-4ee1-86e3-9a482b65a95e",
   "metadata": {},
   "source": [
    "Streets/intersection counts and proportions are nested dicts inside the stats dict. To convert these stats to a pandas dataframe (to compare/analyze multiple networks against each other), just unpack these nested dicts first:"
   ]
  },
  {
   "cell_type": "code",
   "execution_count": null,
   "id": "1cf1abcd-e9de-48c3-9908-a105db14dfc5",
   "metadata": {},
   "outputs": [],
   "source": [
    "# create a copy of the `stats` dictionary\n",
    "from copy import deepcopy\n",
    "stats_unpack = deepcopy(stats)\n",
    "\n",
    "# unpack dicts into individiual keys:values\n",
    "for k, count in stats_unpack[\"streets_per_node_counts\"].items():\n",
    "    stats_unpack[\"{}way_int_count\".format(k)] = count\n",
    "for k, proportion in stats_unpack[\"streets_per_node_proportions\"].items():\n",
    "    stats_unpack[\"{}way_int_prop\".format(k)] = proportion\n",
    "\n",
    "# delete the no longer needed dict elements\n",
    "del stats_unpack[\"streets_per_node_counts\"]\n",
    "del stats_unpack[\"streets_per_node_proportions\"]\n",
    "\n",
    "# load as a pandas dataframe\n",
    "pd.DataFrame(pd.Series(stats_unpack, name=\"value\")).round(3)"
   ]
  },
  {
   "cell_type": "markdown",
   "id": "d5171d02-4ffe-47dc-add4-6bebf83de77e",
   "metadata": {},
   "source": [
    "> **Question**: Generally speaking, how many streets do the intersections of the extracted network (nodes) connected to?"
   ]
  },
  {
   "cell_type": "markdown",
   "id": "269c66c9-7903-4d2c-840e-1a93e7a302d0",
   "metadata": {},
   "source": [
    "It may be more interesting to map the nodes out in addition to showing some summary statistics. How about visualising the nodes according to how many street segments they are connected?"
   ]
  },
  {
   "cell_type": "code",
   "execution_count": null,
   "id": "d5a6e09e-90ef-41fc-a9b1-6e2c0ab35263",
   "metadata": {},
   "outputs": [],
   "source": [
    "# you could take a peek of what attributes are available for the nodes with `.nodes.data(data = True)` property\n",
    "# hk_graph.nodes.data(data = True)\n",
    "\n",
    "# set the \"colour symbology\"\n",
    "nc_street_count = ox.plot.get_node_colors_by_attr(hk_graph, \"street_count\", cmap=\"YlGnBu\")\n",
    "\n",
    "fig, ax = ox.plot_graph(\n",
    "    hk_graph,\n",
    "    bgcolor=\"#232323\",\n",
    "    node_color=nc_street_count,\n",
    "    node_size=5,\n",
    "    node_zorder=2,\n",
    "    edge_linewidth=0.2,\n",
    "    edge_color=\"w\"\n",
    ")"
   ]
  },
  {
   "cell_type": "markdown",
   "id": "d91e8e81-8147-46f2-963a-dc27e092d574",
   "metadata": {},
   "source": [
    "### Inspect betweenness centrality\n"
   ]
  },
  {
   "cell_type": "markdown",
   "id": "81cf397f-c05d-45b6-9079-2a41de94450b",
   "metadata": {},
   "source": [
    "The `betweenness_centrality` function in NetworkX package allows you to compute betweenness centrality of the nodes in the network.\n",
    "\n",
    "As the street network we extracted (`hk_graph`) is quite complex, it would take some time to compute the betweenness."
   ]
  },
  {
   "cell_type": "code",
   "execution_count": null,
   "id": "ec7685f0-d619-464e-9631-3b0267b1c9b6",
   "metadata": {},
   "outputs": [],
   "source": [
    "# get a digraph of the street network graph (i.e. w/o parallel edges)\n",
    "hk_graph_di = ox.get_digraph(hk_graph)\n",
    "\n",
    "# compute betweenness\n",
    "bc = nx.betweenness_centrality(hk_graph_di, weight=\"length\")\n",
    "\n",
    "# get the ID of node with max betweenness, as well as its betweenness value\n",
    "max_node, max_bc = max(bc.items(), key=lambda x: x[1])\n",
    "max_node, max_bc"
   ]
  },
  {
   "cell_type": "markdown",
   "id": "bbe78d35-b09d-4aca-a3e9-8251e5c7b8ff",
   "metadata": {},
   "source": [
    "In the network, the node with the highest betweenness centrality has ~12.8% (0.1289) of all shortest paths running through it. Let's highlight it in the plot:"
   ]
  },
  {
   "cell_type": "code",
   "execution_count": null,
   "id": "0dc096a4-bc35-4efc-8299-cc8b9fe40896",
   "metadata": {},
   "outputs": [],
   "source": [
    "# set plotting options\n",
    "# set the node color (nc) to red (\"r\") if the node is `max_node`, otherwise set to white (\"w\")\n",
    "nc = [\"r\" if node == max_node else \"w\" for node in hk_graph.nodes]\n",
    "# set the node size (ns) to 80 if the node is `max_node`, otherwise set to 5\n",
    "ns = [80 if node == max_node else 5 for node in hk_graph.nodes]\n",
    "\n",
    "# plot the street network with the plotting options above\n",
    "fig, ax = ox.plot_graph(hk_graph, node_size=ns, node_color=nc, node_zorder=2)"
   ]
  },
  {
   "cell_type": "markdown",
   "id": "5da7e3ca-84ca-4a73-a186-de9787a45ec1",
   "metadata": {},
   "source": [
    "~12.8% of all shortest paths from any node to any node runs through the node highlighted in red.\n",
    "\n",
    "> **Question**: where is that node located?\n",
    "\n",
    "What about the centrality of other nodes? Let's look at the relative betweenness centrality of every node in the graph.\n"
   ]
  },
  {
   "cell_type": "code",
   "execution_count": null,
   "id": "9e92bd3d-d5a9-4377-85e1-3097cb1d937c",
   "metadata": {},
   "outputs": [],
   "source": [
    "# add the betweenness centraliy values as new node attributes\n",
    "nx.set_node_attributes(hk_graph, bc, \"bc\")\n",
    "\n",
    "# plot the street network\n",
    "nc = ox.plot.get_node_colors_by_attr(hk_graph, \"bc\", cmap=\"Reds\")\n",
    "fig, ax = ox.plot_graph(\n",
    "    hk_graph,\n",
    "    bgcolor=\"#232323\",\n",
    "    node_color=nc,\n",
    "    node_size=5,\n",
    "    node_zorder=2,\n",
    "    edge_linewidth=0.2,\n",
    "    edge_color=\"w\"\n",
    ")"
   ]
  },
  {
   "cell_type": "markdown",
   "id": "458f9800-36c3-489c-badf-8695469301b5",
   "metadata": {},
   "source": [
    "---\n",
    "\n",
    "## Part III: Save the network\n",
    "\n",
    "Quite often, you may want to save the network you created and then make some edits in ArcGIS, QGIS, or other softwares."
   ]
  },
  {
   "cell_type": "markdown",
   "id": "6d99aa19-df32-4a0e-b17d-37c6c44bdcb3",
   "metadata": {},
   "source": [
    "### Export as geopackage"
   ]
  },
  {
   "cell_type": "code",
   "execution_count": null,
   "id": "87ebbc9b-c269-4d5c-b470-6b1b783c01f8",
   "metadata": {},
   "outputs": [],
   "source": [
    "ox.save_graph_geopackage(hk_graph, filepath=\"./data-output/hk_graph.gpkg\")"
   ]
  },
  {
   "cell_type": "markdown",
   "id": "8e31f989-1356-4208-8c36-0227318f6f9c",
   "metadata": {},
   "source": [
    "### Export as shapefile"
   ]
  },
  {
   "cell_type": "markdown",
   "id": "5a7947d1-94b9-4db9-b7dd-932ba5022a84",
   "metadata": {},
   "source": [
    "The shapefile format is proprietary and outdated (see http://switchfromshapefile.org/). Whenever possible, you should use the superior GeoPackage file format instead via the save_graph_geopackage function.\n",
    " \n",
    "In most cases, the reason you need shapefile is because it is most widely supported format in existing software packages."
   ]
  },
  {
   "cell_type": "code",
   "execution_count": null,
   "id": "b1303bf7-2098-4d67-8d0d-166bc303ff12",
   "metadata": {},
   "outputs": [],
   "source": [
    "ox.save_graph_shapefile(hk_graph, filepath=\"./data-output/hk_graph/\")"
   ]
  },
  {
   "cell_type": "markdown",
   "id": "a51cfbea-c2e1-4008-bd8c-8aa44fdd8f07",
   "metadata": {},
   "source": [
    "### Export as SVG\n",
    "\n",
    "If you are using the network to draw some masterplan-like maps, you could export the network as a SVG file and open it in AI."
   ]
  },
  {
   "cell_type": "code",
   "execution_count": null,
   "id": "0aba991f-9071-44c7-a44a-58ba64c50a93",
   "metadata": {},
   "outputs": [],
   "source": [
    "# save street network as SVG\n",
    "fig, ax = ox.plot_graph(hk_graph, show=False, save=True, close=True, filepath=\"./hk_graph.svg\")"
   ]
  },
  {
   "cell_type": "markdown",
   "id": "ab498122-adef-41b2-8d50-50271d0486ee",
   "metadata": {},
   "source": [
    "---\n",
    "\n",
    "## References\n",
    "\n",
    "- https://github.com/gboeing/osmnx-examples/blob/main/notebooks/01-overview-osmnx.ipynb\n",
    "- https://github.com/gboeing/osmnx-examples/blob/main/notebooks/03-graph-place-queries.ipynb\n",
    "- https://github.com/gboeing/osmnx-examples/blob/main/notebooks/05-save-load-networks.ipynb"
   ]
  }
 ],
 "metadata": {
  "kernelspec": {
   "display_name": "Python 3 (ipykernel)",
   "language": "python",
   "name": "python3"
  },
  "language_info": {
   "codemirror_mode": {
    "name": "ipython",
    "version": 3
   },
   "file_extension": ".py",
   "mimetype": "text/x-python",
   "name": "python",
   "nbconvert_exporter": "python",
   "pygments_lexer": "ipython3",
   "version": "3.9.10"
  }
 },
 "nbformat": 4,
 "nbformat_minor": 5
}
